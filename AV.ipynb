{
 "cells": [
  {
   "cell_type": "raw",
   "id": "86f0edd6-d9ce-433d-bfb1-69b8d0f5f861",
   "metadata": {},
   "source": [
    "---\n",
    "title: \"Avaliação\"\n",
    "author: \"Amanda Manosso\"\n",
    "date: \"20 de junho de 2023\"\n",
    "lang: pt\n",
    "format: \n",
    "  html:\n",
    "    code-tools: true\n",
    "    code-fold: true\n",
    "    default-image-extension: png\n",
    "    page-layout: full\n",
    "jupyter: python3\n",
    "---"
   ]
  },
  {
   "cell_type": "markdown",
   "id": "4efeb5f4-8ddc-4a34-9b49-5d19f309a39b",
   "metadata": {},
   "source": [
    "1) Escolha da base de dados: o aluno tem liberdade para escolher a base de dados que utilizará na atividade, desde dados de uma empresa ao longo do tempo, de várias empresas em um determinado momento, até indicadores econômicos, sociais ou demográficos. Pode ser em formato CSV ou utilizando alguma biblioteca (API) específica, como fizemos com o Ipeadata. Caso precise, segue lista de locais para baixar bases de dados (https://www.cienciadedados.org/bancosdadosLinks to an external site.)\n",
    "\n",
    "1.1) Restrição: uma base com, pelo menos, 3 variáveis (colunas) numéricas. Deve importar a base para o projeto e apresentar as primeiras linhas para confirmar\n",
    "\n",
    "1.2) Peso: 2,0"
   ]
  },
  {
   "cell_type": "code",
   "execution_count": 10,
   "id": "ec7fde03-f37b-4c89-baf6-37fdb15dfee0",
   "metadata": {},
   "outputs": [
    {
     "name": "stdout",
     "output_type": "stream",
     "text": [
      "Defaulting to user installation because normal site-packages is not writeable\n",
      "Requirement already satisfied: pandas in c:\\programdata\\anaconda3\\lib\\site-packages (1.4.4)\n",
      "Requirement already satisfied: pytz>=2020.1 in c:\\programdata\\anaconda3\\lib\\site-packages (from pandas) (2022.1)\n",
      "Requirement already satisfied: numpy>=1.18.5 in c:\\programdata\\anaconda3\\lib\\site-packages (from pandas) (1.21.5)\n",
      "Requirement already satisfied: python-dateutil>=2.8.1 in c:\\programdata\\anaconda3\\lib\\site-packages (from pandas) (2.8.2)\n",
      "Requirement already satisfied: six>=1.5 in c:\\programdata\\anaconda3\\lib\\site-packages (from python-dateutil>=2.8.1->pandas) (1.16.0)\n",
      "Note: you may need to restart the kernel to use updated packages.\n"
     ]
    }
   ],
   "source": [
    "pip install pandas"
   ]
  },
  {
   "cell_type": "code",
   "execution_count": 2,
   "id": "73724b2a-89b0-46ad-afc2-40c6c1af4002",
   "metadata": {},
   "outputs": [
    {
     "name": "stdout",
     "output_type": "stream",
     "text": [
      "Defaulting to user installation because normal site-packages is not writeable\n",
      "Requirement already satisfied: ipeadatapy in c:\\users\\manosso.amanda.grupomarista.000\\appdata\\roaming\\python\\python39\\site-packages (0.1.9)\n",
      "Requirement already satisfied: requests in c:\\programdata\\anaconda3\\lib\\site-packages (from ipeadatapy) (2.28.1)\n",
      "Requirement already satisfied: pandas in c:\\programdata\\anaconda3\\lib\\site-packages (from ipeadatapy) (1.4.4)\n",
      "Requirement already satisfied: python-dateutil>=2.8.1 in c:\\programdata\\anaconda3\\lib\\site-packages (from pandas->ipeadatapy) (2.8.2)\n",
      "Requirement already satisfied: numpy>=1.18.5 in c:\\programdata\\anaconda3\\lib\\site-packages (from pandas->ipeadatapy) (1.21.5)\n",
      "Requirement already satisfied: pytz>=2020.1 in c:\\programdata\\anaconda3\\lib\\site-packages (from pandas->ipeadatapy) (2022.1)\n",
      "Requirement already satisfied: idna<4,>=2.5 in c:\\programdata\\anaconda3\\lib\\site-packages (from requests->ipeadatapy) (3.3)\n",
      "Requirement already satisfied: charset-normalizer<3,>=2 in c:\\programdata\\anaconda3\\lib\\site-packages (from requests->ipeadatapy) (2.0.4)\n",
      "Requirement already satisfied: certifi>=2017.4.17 in c:\\programdata\\anaconda3\\lib\\site-packages (from requests->ipeadatapy) (2022.9.14)\n",
      "Requirement already satisfied: urllib3<1.27,>=1.21.1 in c:\\programdata\\anaconda3\\lib\\site-packages (from requests->ipeadatapy) (1.26.11)\n",
      "Requirement already satisfied: six>=1.5 in c:\\programdata\\anaconda3\\lib\\site-packages (from python-dateutil>=2.8.1->pandas->ipeadatapy) (1.16.0)\n",
      "Note: you may need to restart the kernel to use updated packages.\n"
     ]
    }
   ],
   "source": [
    "pip install ipeadatapy"
   ]
  },
  {
   "cell_type": "code",
   "execution_count": null,
   "id": "4a217240-224a-4d96-a603-ae388bb279a0",
   "metadata": {},
   "outputs": [],
   "source": [
    "import ipeadatapy as ip\n",
    "\n",
    "ip.list_series('Selic')"
   ]
  },
  {
   "cell_type": "code",
   "execution_count": 4,
   "id": "3e486a45-1e13-41e1-8b69-d9ab2b00d3fe",
   "metadata": {},
   "outputs": [
    {
     "data": {
      "text/html": [
       "<div>\n",
       "<style scoped>\n",
       "    .dataframe tbody tr th:only-of-type {\n",
       "        vertical-align: middle;\n",
       "    }\n",
       "\n",
       "    .dataframe tbody tr th {\n",
       "        vertical-align: top;\n",
       "    }\n",
       "\n",
       "    .dataframe thead th {\n",
       "        text-align: right;\n",
       "    }\n",
       "</style>\n",
       "<table border=\"1\" class=\"dataframe\">\n",
       "  <thead>\n",
       "    <tr style=\"text-align: right;\">\n",
       "      <th></th>\n",
       "      <th>CODE</th>\n",
       "      <th>RAW DATE</th>\n",
       "      <th>DAY</th>\n",
       "      <th>MONTH</th>\n",
       "      <th>YEAR</th>\n",
       "      <th>VALUE ((% a.m.))</th>\n",
       "    </tr>\n",
       "    <tr>\n",
       "      <th>DATE</th>\n",
       "      <th></th>\n",
       "      <th></th>\n",
       "      <th></th>\n",
       "      <th></th>\n",
       "      <th></th>\n",
       "      <th></th>\n",
       "    </tr>\n",
       "  </thead>\n",
       "  <tbody>\n",
       "    <tr>\n",
       "      <th>2022-01-01</th>\n",
       "      <td>BM12_TJOVER12</td>\n",
       "      <td>2022-01-01T00:00:00-03:00</td>\n",
       "      <td>1</td>\n",
       "      <td>1</td>\n",
       "      <td>2022</td>\n",
       "      <td>0.73</td>\n",
       "    </tr>\n",
       "    <tr>\n",
       "      <th>2022-02-01</th>\n",
       "      <td>BM12_TJOVER12</td>\n",
       "      <td>2022-02-01T00:00:00-03:00</td>\n",
       "      <td>1</td>\n",
       "      <td>2</td>\n",
       "      <td>2022</td>\n",
       "      <td>0.76</td>\n",
       "    </tr>\n",
       "    <tr>\n",
       "      <th>2022-03-01</th>\n",
       "      <td>BM12_TJOVER12</td>\n",
       "      <td>2022-03-01T00:00:00-03:00</td>\n",
       "      <td>1</td>\n",
       "      <td>3</td>\n",
       "      <td>2022</td>\n",
       "      <td>0.93</td>\n",
       "    </tr>\n",
       "    <tr>\n",
       "      <th>2022-04-01</th>\n",
       "      <td>BM12_TJOVER12</td>\n",
       "      <td>2022-04-01T00:00:00-03:00</td>\n",
       "      <td>1</td>\n",
       "      <td>4</td>\n",
       "      <td>2022</td>\n",
       "      <td>0.83</td>\n",
       "    </tr>\n",
       "    <tr>\n",
       "      <th>2022-05-01</th>\n",
       "      <td>BM12_TJOVER12</td>\n",
       "      <td>2022-05-01T00:00:00-03:00</td>\n",
       "      <td>1</td>\n",
       "      <td>5</td>\n",
       "      <td>2022</td>\n",
       "      <td>1.03</td>\n",
       "    </tr>\n",
       "    <tr>\n",
       "      <th>2022-06-01</th>\n",
       "      <td>BM12_TJOVER12</td>\n",
       "      <td>2022-06-01T00:00:00-03:00</td>\n",
       "      <td>1</td>\n",
       "      <td>6</td>\n",
       "      <td>2022</td>\n",
       "      <td>1.02</td>\n",
       "    </tr>\n",
       "    <tr>\n",
       "      <th>2022-07-01</th>\n",
       "      <td>BM12_TJOVER12</td>\n",
       "      <td>2022-07-01T00:00:00-03:00</td>\n",
       "      <td>1</td>\n",
       "      <td>7</td>\n",
       "      <td>2022</td>\n",
       "      <td>1.03</td>\n",
       "    </tr>\n",
       "    <tr>\n",
       "      <th>2022-08-01</th>\n",
       "      <td>BM12_TJOVER12</td>\n",
       "      <td>2022-08-01T00:00:00-03:00</td>\n",
       "      <td>1</td>\n",
       "      <td>8</td>\n",
       "      <td>2022</td>\n",
       "      <td>1.17</td>\n",
       "    </tr>\n",
       "    <tr>\n",
       "      <th>2022-09-01</th>\n",
       "      <td>BM12_TJOVER12</td>\n",
       "      <td>2022-09-01T00:00:00-03:00</td>\n",
       "      <td>1</td>\n",
       "      <td>9</td>\n",
       "      <td>2022</td>\n",
       "      <td>1.07</td>\n",
       "    </tr>\n",
       "    <tr>\n",
       "      <th>2022-10-01</th>\n",
       "      <td>BM12_TJOVER12</td>\n",
       "      <td>2022-10-01T00:00:00-03:00</td>\n",
       "      <td>1</td>\n",
       "      <td>10</td>\n",
       "      <td>2022</td>\n",
       "      <td>1.02</td>\n",
       "    </tr>\n",
       "    <tr>\n",
       "      <th>2022-11-01</th>\n",
       "      <td>BM12_TJOVER12</td>\n",
       "      <td>2022-11-01T00:00:00-03:00</td>\n",
       "      <td>1</td>\n",
       "      <td>11</td>\n",
       "      <td>2022</td>\n",
       "      <td>1.02</td>\n",
       "    </tr>\n",
       "    <tr>\n",
       "      <th>2022-12-01</th>\n",
       "      <td>BM12_TJOVER12</td>\n",
       "      <td>2022-12-01T00:00:00-03:00</td>\n",
       "      <td>1</td>\n",
       "      <td>12</td>\n",
       "      <td>2022</td>\n",
       "      <td>1.12</td>\n",
       "    </tr>\n",
       "  </tbody>\n",
       "</table>\n",
       "</div>"
      ],
      "text/plain": [
       "                     CODE                   RAW DATE  DAY  MONTH  YEAR  \\\n",
       "DATE                                                                     \n",
       "2022-01-01  BM12_TJOVER12  2022-01-01T00:00:00-03:00    1      1  2022   \n",
       "2022-02-01  BM12_TJOVER12  2022-02-01T00:00:00-03:00    1      2  2022   \n",
       "2022-03-01  BM12_TJOVER12  2022-03-01T00:00:00-03:00    1      3  2022   \n",
       "2022-04-01  BM12_TJOVER12  2022-04-01T00:00:00-03:00    1      4  2022   \n",
       "2022-05-01  BM12_TJOVER12  2022-05-01T00:00:00-03:00    1      5  2022   \n",
       "2022-06-01  BM12_TJOVER12  2022-06-01T00:00:00-03:00    1      6  2022   \n",
       "2022-07-01  BM12_TJOVER12  2022-07-01T00:00:00-03:00    1      7  2022   \n",
       "2022-08-01  BM12_TJOVER12  2022-08-01T00:00:00-03:00    1      8  2022   \n",
       "2022-09-01  BM12_TJOVER12  2022-09-01T00:00:00-03:00    1      9  2022   \n",
       "2022-10-01  BM12_TJOVER12  2022-10-01T00:00:00-03:00    1     10  2022   \n",
       "2022-11-01  BM12_TJOVER12  2022-11-01T00:00:00-03:00    1     11  2022   \n",
       "2022-12-01  BM12_TJOVER12  2022-12-01T00:00:00-03:00    1     12  2022   \n",
       "\n",
       "            VALUE ((% a.m.))  \n",
       "DATE                          \n",
       "2022-01-01              0.73  \n",
       "2022-02-01              0.76  \n",
       "2022-03-01              0.93  \n",
       "2022-04-01              0.83  \n",
       "2022-05-01              1.03  \n",
       "2022-06-01              1.02  \n",
       "2022-07-01              1.03  \n",
       "2022-08-01              1.17  \n",
       "2022-09-01              1.07  \n",
       "2022-10-01              1.02  \n",
       "2022-11-01              1.02  \n",
       "2022-12-01              1.12  "
      ]
     },
     "execution_count": 4,
     "metadata": {},
     "output_type": "execute_result"
    }
   ],
   "source": [
    "selic = ip.timeseries('BM12_TJOVER12', yearGreaterThan=2021, yearSmallerThan=2023)\n",
    "selic"
   ]
  },
  {
   "cell_type": "markdown",
   "id": "a78391aa-6d50-4a92-81ce-1439ccc20c2b",
   "metadata": {},
   "source": [
    "2) Criação de função própria: durante o projeto, deve criar e utilizar, pelo menos, 1 função própria\n",
    "\n",
    "2.1) Restrição: a função pode ser do tipo def ou lambda, mas precisa ser criada e utilizada em algum momento do projeto\n",
    "\n",
    "2.2) Peso: 1,5"
   ]
  },
  {
   "cell_type": "code",
   "execution_count": 54,
   "id": "f32bd916-72e2-4942-80cc-9b08c70a94a1",
   "metadata": {},
   "outputs": [
    {
     "data": {
      "text/plain": [
       "[(0, 0),\n",
       " (1, 0.73),\n",
       " (2, 0.76),\n",
       " (3, 0.93),\n",
       " (4, 0.83),\n",
       " (5, 1.03),\n",
       " (6, 1.02),\n",
       " (7, 1.03),\n",
       " (8, 1.17),\n",
       " (9, 1.07),\n",
       " (10, 1.02),\n",
       " (11, 1.02),\n",
       " (12, 1.12)]"
      ]
     },
     "execution_count": 54,
     "metadata": {},
     "output_type": "execute_result"
    }
   ],
   "source": [
    "#Sequência da taxa selic de acordo com cada mês do ano\n",
    "\n",
    "lista = [0,0.73,0.76,0.93,0.83,1.03,1.02,1.03,1.17,1.07,1.02,1.02,1.12]\n",
    "list(enumerate(lista))"
   ]
  },
  {
   "cell_type": "code",
   "execution_count": 55,
   "id": "47e8e5fa-b562-44b9-962c-d1618736d22a",
   "metadata": {},
   "outputs": [
    {
     "name": "stdout",
     "output_type": "stream",
     "text": [
      "[0, 1.46, 1.52, 1.86, 1.66, 2.06, 2.04, 2.06, 2.34, 2.14, 2.04, 2.04, 2.24]\n"
     ]
    }
   ],
   "source": [
    "dobro = list(map(lambda x: x * 2, lista))\n",
    "\n",
    "print(dobro)"
   ]
  },
  {
   "cell_type": "markdown",
   "id": "69c3a2a8-9519-49a8-b493-fb9ca56e4a7f",
   "metadata": {},
   "source": [
    "3) Estrutura de repetição e condição: Ao longo do projeto deve constar o uso de, pelo menos, uma estrutura de repetição (for ou while) e uma estrutura de condição (if, elif, else)\n",
    "\n",
    "3.1) Restrição: Deve ter, pelo menos, uma repetição (for ou while) e uma condição (if)\n",
    "\n",
    "3.2) Peso: 1,5"
   ]
  },
  {
   "cell_type": "code",
   "execution_count": 56,
   "id": "ad383503-921c-4007-87c3-7de12a614347",
   "metadata": {},
   "outputs": [
    {
     "name": "stdout",
     "output_type": "stream",
     "text": [
      "O valor 0, ou seja a taxa selic seria baixa, caso fosse o dobro\n",
      "O valor 1.46, ou seja, a taxa selic seria alta, caso fosse o dobro\n",
      "O valor 1.52, ou seja, a taxa selic seria alta, caso fosse o dobro\n",
      "O valor 1.86, ou seja, a taxa selic seria alta, caso fosse o dobro\n",
      "O valor 1.66, ou seja, a taxa selic seria alta, caso fosse o dobro\n",
      "O valor 2.06, ou seja, a taxa selic seria alta, caso fosse o dobro\n",
      "O valor 2.04, ou seja, a taxa selic seria alta, caso fosse o dobro\n",
      "O valor 2.06, ou seja, a taxa selic seria alta, caso fosse o dobro\n",
      "O valor 2.34, ou seja, a taxa selic seria alta, caso fosse o dobro\n",
      "O valor 2.14, ou seja, a taxa selic seria alta, caso fosse o dobro\n",
      "O valor 2.04, ou seja, a taxa selic seria alta, caso fosse o dobro\n",
      "O valor 2.04, ou seja, a taxa selic seria alta, caso fosse o dobro\n",
      "O valor 2.24, ou seja, a taxa selic seria alta, caso fosse o dobro\n"
     ]
    }
   ],
   "source": [
    "#Utilizando o dobro das taxas selic de cada mês é possível descobrir se dessa forma elas seriam altas no próximo\n",
    "for valor in dobro:\n",
    "    if valor > 1:\n",
    "        print(f'O valor {valor}, ou seja, a taxa selic seria alta, caso fosse o dobro')\n",
    "    elif valor< 1 :\n",
    "        print(f'O valor {valor}, ou seja a taxa selic seria baixa, caso fosse o dobro')"
   ]
  },
  {
   "cell_type": "markdown",
   "id": "1156c7ab-0673-4f20-9d0a-09390252ce08",
   "metadata": {},
   "source": [
    "4) Funções especiais: Das 5 funções especiais vistas na aula 12 (map, reduce, zap, enumerate e filter), pelo menos 1 delas precisa ser utilizada no projeto de qualquer forma\n",
    "\n",
    "4.1) Restrição: Pelo menos 1 das funções especiais precisar ser utilizada em algum momento do projeto\n",
    "\n",
    "4.2) Peso: 1,0"
   ]
  },
  {
   "cell_type": "code",
   "execution_count": 64,
   "id": "44d46de0-f1eb-49fc-a299-78aca98a77f6",
   "metadata": {},
   "outputs": [
    {
     "data": {
      "text/plain": [
       "[0, 0.73, 0.76, 0.93, 0.83, 1.03, 1.02, 1.03, 1.17, 1.07, 1.02, 1.02, 1.12]"
      ]
     },
     "execution_count": 64,
     "metadata": {},
     "output_type": "execute_result"
    }
   ],
   "source": [
    "## Usando a função map() para subtrair os elemntos de 2 lista, retornando as taxas originais\n",
    "lista = [0,0.73,0.76,0.93,0.83,1.03,1.02,1.03,1.17,1.07,1.02,1.02,1.12]\n",
    "lista1 = [0, 1.46, 1.52, 1.86, 1.66, 2.06, 2.04, 2.06, 2.34, 2.14, 2.04, 2.04, 2.24]\n",
    "\n",
    "diferença_listas= list(map(lambda x, y : x-y, lista1,lista))\n",
    "diferença_listas"
   ]
  },
  {
   "cell_type": "markdown",
   "id": "e73b92c9-59b4-487a-be15-82d9a84ec388",
   "metadata": {},
   "source": [
    "5) Resumo estatístico: Entre todas as formas de resumo das variáveis numéricas que vimos ao longo das aulas (operadores matemáticos básicos, sum, mean, median), deve escolher e utilizar pelo menos duas delas. O uso pode ser em alguma função, repetição ou condição, mas em algum lugar precisa realizar algum cálculo.\n",
    "\n",
    "5.1) Restrição: Uso de, pelo menos duas operações matemáticas em qualquer lugar do projeto\n",
    "\n",
    "5.2) Peso: 1,5"
   ]
  },
  {
   "cell_type": "code",
   "execution_count": 80,
   "id": "6be90c28-adbf-4276-b30c-7a5320bed5e7",
   "metadata": {},
   "outputs": [
    {
     "name": "stdout",
     "output_type": "stream",
     "text": [
      "11.73\n",
      "0.9023076923076924\n"
     ]
    }
   ],
   "source": [
    "soma = sum(lista)\n",
    "media= mean(lista)\n",
    "\n",
    "print(soma)\n",
    "print(media)"
   ]
  },
  {
   "cell_type": "code",
   "execution_count": null,
   "id": "13d1ecde-abfc-4a7a-b9a5-d05f628aafd6",
   "metadata": {},
   "outputs": [],
   "source": []
  }
 ],
 "metadata": {
  "kernelspec": {
   "display_name": "Python 3 (ipykernel)",
   "language": "python",
   "name": "python3"
  },
  "language_info": {
   "codemirror_mode": {
    "name": "ipython",
    "version": 3
   },
   "file_extension": ".py",
   "mimetype": "text/x-python",
   "name": "python",
   "nbconvert_exporter": "python",
   "pygments_lexer": "ipython3",
   "version": "3.9.13"
  }
 },
 "nbformat": 4,
 "nbformat_minor": 5
}
